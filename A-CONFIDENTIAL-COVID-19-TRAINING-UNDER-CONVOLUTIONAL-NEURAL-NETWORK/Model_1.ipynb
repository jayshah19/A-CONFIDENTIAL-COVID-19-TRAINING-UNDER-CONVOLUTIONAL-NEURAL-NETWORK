{
  "cells": [
    {
      "cell_type": "code",
      "source": [
        "!wget https://drive.google.com/file/d/12T5tqdOKWMAQfc8NkUds5aNKZKwmpjCB/view?usp=sharing"
      ],
      "metadata": {
        "id": "hr_MpWgsEkea",
        "outputId": "2bd727c5-ec11-4079-8ee0-b5e3417f34df",
        "colab": {
          "base_uri": "https://localhost:8080/"
        }
      },
      "execution_count": 4,
      "outputs": [
        {
          "output_type": "stream",
          "name": "stdout",
          "text": [
            "--2022-04-13 04:30:58--  https://drive.google.com/file/d/12T5tqdOKWMAQfc8NkUds5aNKZKwmpjCB/view?usp=sharing\n",
            "Resolving drive.google.com (drive.google.com)... 173.194.213.138, 173.194.213.101, 173.194.213.102, ...\n",
            "Connecting to drive.google.com (drive.google.com)|173.194.213.138|:443... connected.\n",
            "HTTP request sent, awaiting response... 200 OK\n",
            "Length: unspecified [text/html]\n",
            "Saving to: ‘view?usp=sharing’\n",
            "\n",
            "view?usp=sharing        [ <=>                ]  64.60K  --.-KB/s    in 0.002s  \n",
            "\n",
            "2022-04-13 04:30:59 (25.5 MB/s) - ‘view?usp=sharing’ saved [66146]\n",
            "\n"
          ]
        }
      ]
    },
    {
      "cell_type": "code",
      "source": [
        "!ls\n"
      ],
      "metadata": {
        "id": "LwSl_mvMKJGY",
        "outputId": "504b0a5d-58c1-4adb-9163-d15a15fd6f2b",
        "colab": {
          "base_uri": "https://localhost:8080/"
        }
      },
      "execution_count": 5,
      "outputs": [
        {
          "output_type": "stream",
          "name": "stdout",
          "text": [
            " sample_data  'view?usp=sharing'\n"
          ]
        }
      ]
    },
    {
      "cell_type": "code",
      "source": [
        "!unzip covid-19"
      ],
      "metadata": {
        "id": "HT8cov9kKTXB",
        "outputId": "ed6ff027-86a2-47c4-b6b9-346180865c48",
        "colab": {
          "base_uri": "https://localhost:8080/"
        }
      },
      "execution_count": 6,
      "outputs": [
        {
          "output_type": "stream",
          "name": "stdout",
          "text": [
            "unzip:  cannot find or open covid-19, covid-19.zip or covid-19.ZIP.\n"
          ]
        }
      ]
    },
    {
      "cell_type": "code",
      "source": [
        ""
      ],
      "metadata": {
        "id": "4bePQFSogRtb"
      },
      "execution_count": 6,
      "outputs": []
    },
    {
      "cell_type": "code",
      "source": [
        "from google.colab import drive\n",
        "drive.mount('/content/drive')"
      ],
      "metadata": {
        "id": "mLfpOjWDiv96",
        "outputId": "ede74f54-0220-4fa0-a84f-68ce6571b11c",
        "colab": {
          "base_uri": "https://localhost:8080/"
        }
      },
      "execution_count": 7,
      "outputs": [
        {
          "output_type": "stream",
          "name": "stdout",
          "text": [
            "Mounted at /content/drive\n"
          ]
        }
      ]
    },
    {
      "cell_type": "code",
      "source": [
        "TRAIN_PATH = \"drive/MyDrive/Covid-19/Train\"\n",
        "VAL_PATH = \"drive/MyDrive/Covid-19/Val\""
      ],
      "metadata": {
        "id": "qG65Bq-4jOeX"
      },
      "execution_count": 8,
      "outputs": []
    },
    {
      "cell_type": "code",
      "source": [
        "import numpy as np\n",
        "import matplotlib.pyplot as plt\n",
        "import keras\n",
        "from keras.layers import *\n",
        "from keras.models import * \n",
        "from keras.preprocessing import image"
      ],
      "metadata": {
        "id": "jHpWP9RMnkJb"
      },
      "execution_count": 9,
      "outputs": []
    },
    {
      "cell_type": "code",
      "source": [
        "model = Sequential()\n",
        "model.add(Conv2D(32,kernel_size=(3,3),activation='relu',input_shape=(224,224,3)))\n",
        "model.add(Conv2D(64,(3,3),activation='relu'))\n",
        "model.add(MaxPooling2D(pool_size=(2,2)))\n",
        "model.add(Dropout(0.25))\n",
        "\n",
        "model.add(Conv2D(64,(3,3),activation='relu'))\n",
        "model.add(MaxPooling2D(pool_size=(2,2)))\n",
        "model.add(Dropout(0.25))\n",
        "\n",
        "model.add(Conv2D(128,(3,3),activation='relu'))\n",
        "model.add(MaxPooling2D(pool_size=(2,2)))\n",
        "model.add(Dropout(0.25))\n",
        "\n",
        "model.add(Flatten())\n",
        "model.add(Dense(64,activation='relu'))\n",
        "model.add(Dropout(0.5))\n",
        "model.add(Dense(1,activation='sigmoid'))\n",
        "\n",
        "model.compile(loss=keras.losses.binary_crossentropy,optimizer='adam',metrics=['accuracy'])"
      ],
      "metadata": {
        "id": "kSBimaKvnnVp"
      },
      "execution_count": 10,
      "outputs": []
    },
    {
      "cell_type": "code",
      "source": [
        "model.summary()"
      ],
      "metadata": {
        "id": "UbJD7oq0nsIf",
        "outputId": "5e16bd3a-389f-4086-ef1b-f96fa22a8578",
        "colab": {
          "base_uri": "https://localhost:8080/"
        }
      },
      "execution_count": 11,
      "outputs": [
        {
          "output_type": "stream",
          "name": "stdout",
          "text": [
            "Model: \"sequential\"\n",
            "_________________________________________________________________\n",
            " Layer (type)                Output Shape              Param #   \n",
            "=================================================================\n",
            " conv2d (Conv2D)             (None, 222, 222, 32)      896       \n",
            "                                                                 \n",
            " conv2d_1 (Conv2D)           (None, 220, 220, 64)      18496     \n",
            "                                                                 \n",
            " max_pooling2d (MaxPooling2D  (None, 110, 110, 64)     0         \n",
            " )                                                               \n",
            "                                                                 \n",
            " dropout (Dropout)           (None, 110, 110, 64)      0         \n",
            "                                                                 \n",
            " conv2d_2 (Conv2D)           (None, 108, 108, 64)      36928     \n",
            "                                                                 \n",
            " max_pooling2d_1 (MaxPooling  (None, 54, 54, 64)       0         \n",
            " 2D)                                                             \n",
            "                                                                 \n",
            " dropout_1 (Dropout)         (None, 54, 54, 64)        0         \n",
            "                                                                 \n",
            " conv2d_3 (Conv2D)           (None, 52, 52, 128)       73856     \n",
            "                                                                 \n",
            " max_pooling2d_2 (MaxPooling  (None, 26, 26, 128)      0         \n",
            " 2D)                                                             \n",
            "                                                                 \n",
            " dropout_2 (Dropout)         (None, 26, 26, 128)       0         \n",
            "                                                                 \n",
            " flatten (Flatten)           (None, 86528)             0         \n",
            "                                                                 \n",
            " dense (Dense)               (None, 64)                5537856   \n",
            "                                                                 \n",
            " dropout_3 (Dropout)         (None, 64)                0         \n",
            "                                                                 \n",
            " dense_1 (Dense)             (None, 1)                 65        \n",
            "                                                                 \n",
            "=================================================================\n",
            "Total params: 5,668,097\n",
            "Trainable params: 5,668,097\n",
            "Non-trainable params: 0\n",
            "_________________________________________________________________\n"
          ]
        }
      ]
    },
    {
      "cell_type": "code",
      "source": [
        "train_datagen = image.ImageDataGenerator(rescale = 1./255, shear_range = 0.2, zoom_range = 0.2,horizontal_flip = True,)\n",
        "\n",
        "test_dataset = image.ImageDataGenerator(rescale=1./255)"
      ],
      "metadata": {
        "id": "zr_Ax2F1nul7"
      },
      "execution_count": 12,
      "outputs": []
    },
    {
      "cell_type": "code",
      "source": [
        "train_generator = train_datagen.flow_from_directory('drive/MyDrive/Covid-19/Train',target_size = (224,224),batch_size = 32, class_mode = 'binary')"
      ],
      "metadata": {
        "id": "5Xm65QIkn0lc",
        "outputId": "a74f0f49-568b-4d86-b29c-290e321068db",
        "colab": {
          "base_uri": "https://localhost:8080/"
        }
      },
      "execution_count": 13,
      "outputs": [
        {
          "output_type": "stream",
          "name": "stdout",
          "text": [
            "Found 7000 images belonging to 2 classes.\n"
          ]
        }
      ]
    },
    {
      "cell_type": "code",
      "source": [
        "train_generator.class_indices"
      ],
      "metadata": {
        "id": "UIqMW5vJn3AT",
        "outputId": "6f2223c0-8841-4085-de7e-babe97229da7",
        "colab": {
          "base_uri": "https://localhost:8080/"
        }
      },
      "execution_count": 14,
      "outputs": [
        {
          "output_type": "execute_result",
          "data": {
            "text/plain": [
              "{'Covid': 0, 'Normal': 1}"
            ]
          },
          "metadata": {},
          "execution_count": 14
        }
      ]
    },
    {
      "cell_type": "code",
      "source": [
        "validation_generator = test_dataset.flow_from_directory('drive/MyDrive/Covid-19/Val',target_size = (224,224),batch_size = 32,class_mode = 'binary')"
      ],
      "metadata": {
        "id": "eelCfbwnoOdB",
        "outputId": "2267bc3a-bbe0-41b3-b2ae-1836fd216787",
        "colab": {
          "base_uri": "https://localhost:8080/"
        }
      },
      "execution_count": 15,
      "outputs": [
        {
          "output_type": "stream",
          "name": "stdout",
          "text": [
            "Found 3000 images belonging to 2 classes.\n"
          ]
        }
      ]
    },
    {
      "cell_type": "code",
      "source": [
        "hist = model.fit_generator(\n",
        "    train_generator,\n",
        "    steps_per_epoch=8,\n",
        "    epochs = 10,\n",
        "    validation_data = validation_generator,\n",
        "    validation_steps=2\n",
        ")"
      ],
      "metadata": {
        "id": "Lw0PKnPSoWTH",
        "outputId": "53e48006-7651-4ef3-cbd7-91cd0e00ab49",
        "colab": {
          "base_uri": "https://localhost:8080/"
        }
      },
      "execution_count": 16,
      "outputs": [
        {
          "output_type": "stream",
          "name": "stderr",
          "text": [
            "/usr/local/lib/python3.7/dist-packages/ipykernel_launcher.py:6: UserWarning: `Model.fit_generator` is deprecated and will be removed in a future version. Please use `Model.fit`, which supports generators.\n",
            "  \n"
          ]
        },
        {
          "output_type": "stream",
          "name": "stdout",
          "text": [
            "Epoch 1/10\n",
            "8/8 [==============================] - 174s 22s/step - loss: 0.9839 - accuracy: 0.6719 - val_loss: 0.6799 - val_accuracy: 0.6094\n",
            "Epoch 2/10\n",
            "8/8 [==============================] - 92s 11s/step - loss: 0.6251 - accuracy: 0.7188 - val_loss: 0.5948 - val_accuracy: 0.7500\n",
            "Epoch 3/10\n",
            "8/8 [==============================] - 91s 11s/step - loss: 0.6532 - accuracy: 0.7344 - val_loss: 0.6589 - val_accuracy: 0.6875\n",
            "Epoch 4/10\n",
            "8/8 [==============================] - 92s 11s/step - loss: 0.5643 - accuracy: 0.7656 - val_loss: 0.6764 - val_accuracy: 0.6094\n",
            "Epoch 5/10\n",
            "8/8 [==============================] - 90s 11s/step - loss: 0.5819 - accuracy: 0.7461 - val_loss: 0.5470 - val_accuracy: 0.7969\n",
            "Epoch 6/10\n",
            "8/8 [==============================] - 87s 11s/step - loss: 0.5996 - accuracy: 0.6992 - val_loss: 0.5875 - val_accuracy: 0.7188\n",
            "Epoch 7/10\n",
            "8/8 [==============================] - 89s 11s/step - loss: 0.6393 - accuracy: 0.6602 - val_loss: 0.6179 - val_accuracy: 0.7031\n",
            "Epoch 8/10\n",
            "8/8 [==============================] - 88s 11s/step - loss: 0.6040 - accuracy: 0.7148 - val_loss: 0.6502 - val_accuracy: 0.5938\n",
            "Epoch 9/10\n",
            "8/8 [==============================] - 87s 11s/step - loss: 0.5774 - accuracy: 0.7148 - val_loss: 0.6212 - val_accuracy: 0.6562\n",
            "Epoch 10/10\n",
            "8/8 [==============================] - 92s 12s/step - loss: 0.5320 - accuracy: 0.7148 - val_loss: 0.5646 - val_accuracy: 0.7500\n"
          ]
        }
      ]
    },
    {
      "cell_type": "code",
      "source": [
        "print(model.layers[0].weights)"
      ],
      "metadata": {
        "id": "_UuDZQuaomtD",
        "colab": {
          "base_uri": "https://localhost:8080/"
        },
        "outputId": "37a7eaf5-4454-4159-a6a5-483fe961b497"
      },
      "execution_count": 17,
      "outputs": [
        {
          "output_type": "stream",
          "name": "stdout",
          "text": [
            "[<tf.Variable 'conv2d/kernel:0' shape=(3, 3, 3, 32) dtype=float32, numpy=\n",
            "array([[[[ 0.05018714, -0.04111976,  0.12810548, -0.10068788,\n",
            "          -0.03985051, -0.02826978,  0.00287174, -0.0881154 ,\n",
            "          -0.0829858 , -0.05261596,  0.13340783,  0.10882005,\n",
            "          -0.11483789, -0.09731973, -0.14359671,  0.11911346,\n",
            "           0.06737395, -0.08179034,  0.15000917, -0.13163261,\n",
            "          -0.08886214, -0.02432266, -0.11091176, -0.1319238 ,\n",
            "           0.00241402,  0.02379453, -0.01651067, -0.07284486,\n",
            "          -0.13929358, -0.05430029, -0.06193407,  0.02283797],\n",
            "         [-0.00092343,  0.11700733,  0.0491698 , -0.06819045,\n",
            "           0.06399449,  0.12173916, -0.00981868,  0.12534772,\n",
            "           0.11484803,  0.05809854,  0.135728  , -0.04942789,\n",
            "          -0.03873836,  0.05931445, -0.11941642,  0.01456387,\n",
            "           0.10270698, -0.13029884, -0.09048373,  0.02551965,\n",
            "          -0.13571139, -0.09571268,  0.00078857,  0.12339392,\n",
            "          -0.05653621,  0.09269664, -0.13849346,  0.06334002,\n",
            "          -0.08532546, -0.09065613,  0.09498908, -0.08656244],\n",
            "         [-0.09752128, -0.00779238, -0.03334932, -0.03849569,\n",
            "           0.05746679, -0.09656284, -0.01311789,  0.02820123,\n",
            "           0.01174349, -0.04093691,  0.00463949,  0.07416441,\n",
            "          -0.0591632 ,  0.05157173,  0.12586623,  0.09968977,\n",
            "           0.06575099, -0.03493852, -0.11285934,  0.02350364,\n",
            "          -0.10680225, -0.10835797, -0.12418684,  0.07454731,\n",
            "          -0.07918257, -0.12119906, -0.09754599,  0.04992156,\n",
            "           0.01755453,  0.00852975, -0.03762647, -0.00509582]],\n",
            "\n",
            "        [[ 0.10356854, -0.02086549, -0.02606996,  0.08261316,\n",
            "          -0.07436162, -0.07851482, -0.04995599, -0.11673444,\n",
            "          -0.08876376,  0.06884763,  0.08059739, -0.07783544,\n",
            "           0.13091971, -0.10905422,  0.12159582, -0.1416775 ,\n",
            "           0.04399403,  0.10598832, -0.03830464,  0.05823527,\n",
            "           0.06883947,  0.02844339, -0.08416855,  0.05028588,\n",
            "          -0.00560623, -0.05076703, -0.0837374 , -0.10997096,\n",
            "           0.10622842, -0.03761591, -0.05165864,  0.04991165],\n",
            "         [ 0.01523771,  0.07459501,  0.09276262,  0.11808185,\n",
            "           0.08910839, -0.04774228,  0.1064535 , -0.0938566 ,\n",
            "          -0.00888874, -0.03791049,  0.04446165, -0.0750372 ,\n",
            "           0.03468432,  0.12929563, -0.10517654, -0.01832877,\n",
            "          -0.08895137,  0.05955024, -0.0370076 ,  0.10390578,\n",
            "          -0.12407401,  0.00644526,  0.10044827, -0.02608437,\n",
            "           0.09183916, -0.10263772,  0.1020216 ,  0.05721012,\n",
            "          -0.13010833, -0.11279579, -0.07540513,  0.02946996],\n",
            "         [-0.026452  ,  0.11432464, -0.03899796, -0.11402073,\n",
            "          -0.0076455 ,  0.05768062,  0.11141201,  0.0730303 ,\n",
            "           0.03804689, -0.02280338,  0.00222676,  0.05285598,\n",
            "           0.13512659,  0.09583975,  0.07357773, -0.10500692,\n",
            "          -0.03735967, -0.13121727,  0.03332938, -0.05810078,\n",
            "           0.00241427,  0.01839986, -0.11134128,  0.10815322,\n",
            "          -0.05152681, -0.05767831,  0.09498893,  0.08059834,\n",
            "           0.01390265, -0.09708137,  0.02840953,  0.05820932]],\n",
            "\n",
            "        [[ 0.12832628, -0.03958329, -0.02411551, -0.09608737,\n",
            "           0.0816984 ,  0.098375  ,  0.08593595, -0.12670568,\n",
            "          -0.02816212,  0.04020446, -0.0188084 ,  0.05386527,\n",
            "          -0.05469115,  0.11076491, -0.10742578,  0.06445393,\n",
            "          -0.01606392,  0.11685438, -0.06411541,  0.104251  ,\n",
            "           0.00253688, -0.10157522, -0.04593606,  0.00654964,\n",
            "           0.08031595,  0.11452953,  0.06152591, -0.13117366,\n",
            "          -0.07472718, -0.13630256,  0.00400861, -0.1103389 ],\n",
            "         [ 0.0079127 ,  0.01517727, -0.02445496,  0.01591511,\n",
            "           0.00649571, -0.09937594, -0.00656328,  0.08135732,\n",
            "           0.11287536,  0.04874233,  0.09213771,  0.11943533,\n",
            "          -0.02292713, -0.09764242,  0.00649373, -0.00083467,\n",
            "          -0.0929946 ,  0.03842086, -0.00085735,  0.03108873,\n",
            "           0.04498989,  0.10390907, -0.00095403,  0.0210781 ,\n",
            "          -0.07437415, -0.02100727, -0.09279875,  0.03812043,\n",
            "           0.06768028, -0.0972924 ,  0.02647699, -0.1203429 ],\n",
            "         [ 0.0594398 ,  0.05229306,  0.07289574, -0.0471293 ,\n",
            "           0.12710708, -0.03138751, -0.00881609,  0.11649704,\n",
            "          -0.07607751,  0.11883953, -0.06882048, -0.09580605,\n",
            "          -0.07402256, -0.04588576, -0.00041491, -0.09125918,\n",
            "           0.12609714,  0.05404911, -0.07965741, -0.15125807,\n",
            "           0.02080047,  0.11610474,  0.08184386, -0.04192324,\n",
            "          -0.13983192,  0.06903491, -0.08954195,  0.08554544,\n",
            "          -0.00879692, -0.08217175, -0.01167413, -0.06941262]]],\n",
            "\n",
            "\n",
            "       [[[-0.03647644,  0.04473007, -0.06245711, -0.0563462 ,\n",
            "           0.08514447, -0.04979448,  0.113676  , -0.06853927,\n",
            "           0.0744931 , -0.10569884,  0.09040765, -0.1370756 ,\n",
            "           0.11154453,  0.01703176, -0.08258741, -0.0472521 ,\n",
            "           0.01556396,  0.12653175, -0.04757591,  0.10292181,\n",
            "           0.07610022,  0.12605394,  0.07096649,  0.00522192,\n",
            "           0.08628143,  0.01260739,  0.00191534, -0.07942445,\n",
            "          -0.04439695,  0.02479384,  0.11968061, -0.14776818],\n",
            "         [-0.00064729,  0.00709463,  0.13264997, -0.08828343,\n",
            "           0.10270482,  0.0285347 ,  0.05121939,  0.08691313,\n",
            "           0.16258752,  0.04886055, -0.06354133, -0.13998581,\n",
            "          -0.05805844, -0.03953039, -0.07037554, -0.06760054,\n",
            "          -0.06654523, -0.136332  ,  0.03847208,  0.01887783,\n",
            "          -0.00886391,  0.14146489,  0.00588144,  0.02754177,\n",
            "           0.11104459,  0.08895269, -0.09273655,  0.12482306,\n",
            "          -0.1010455 , -0.00039634,  0.01152957,  0.088361  ],\n",
            "         [ 0.05235251, -0.02777969,  0.08556028, -0.12203595,\n",
            "          -0.07294007, -0.10875607,  0.10170752, -0.05982074,\n",
            "           0.09160856, -0.10859805,  0.00580365,  0.07722927,\n",
            "           0.11603523,  0.00945828, -0.09517418, -0.04205135,\n",
            "          -0.05706028,  0.00434147, -0.01320162, -0.06180975,\n",
            "           0.05503502, -0.00960712,  0.0145947 ,  0.08180948,\n",
            "           0.05626333, -0.07237524,  0.00947619, -0.07161105,\n",
            "           0.0646555 ,  0.0324962 , -0.14500345, -0.14532752]],\n",
            "\n",
            "        [[-0.07959983, -0.08126676, -0.09807184, -0.09423808,\n",
            "          -0.09534921, -0.10035775,  0.11213786,  0.01895643,\n",
            "           0.0025707 , -0.02847682, -0.04381841,  0.09217395,\n",
            "           0.12666647, -0.04973707, -0.06106201,  0.05224806,\n",
            "           0.04216553,  0.04856168,  0.08562613, -0.14962652,\n",
            "           0.00378686,  0.12455288, -0.03392267,  0.11167469,\n",
            "           0.0630164 , -0.09568552,  0.12756535,  0.11079766,\n",
            "           0.11160317,  0.01252477,  0.12655589,  0.08177362],\n",
            "         [-0.02332701,  0.10285297,  0.08932334, -0.13432017,\n",
            "           0.0385154 , -0.08153585,  0.09871765,  0.06186613,\n",
            "          -0.11359238, -0.01200103,  0.00758314, -0.07326338,\n",
            "          -0.04374903,  0.12672155, -0.02274599, -0.06196035,\n",
            "           0.07679025,  0.12401084,  0.14757112, -0.11381114,\n",
            "          -0.07898164, -0.13256292, -0.04541681,  0.02986163,\n",
            "          -0.02421464, -0.07244325, -0.11621791, -0.0095958 ,\n",
            "           0.00450138,  0.07767698,  0.08009375,  0.09034238],\n",
            "         [ 0.08606274,  0.08974633, -0.11122061,  0.07220564,\n",
            "          -0.0955778 ,  0.01460808,  0.04119481,  0.00824708,\n",
            "          -0.04295683, -0.03793114,  0.11174721, -0.14030902,\n",
            "           0.12274209,  0.12791048, -0.11615271,  0.14283705,\n",
            "           0.11758231,  0.07284044,  0.06482086, -0.0970201 ,\n",
            "          -0.00935105, -0.02692624,  0.01721662, -0.05719292,\n",
            "          -0.08899724,  0.05229129, -0.07021391, -0.06483734,\n",
            "           0.04702796,  0.08080269,  0.11282028,  0.05237911]],\n",
            "\n",
            "        [[ 0.0412013 ,  0.09515096,  0.0312412 ,  0.0100499 ,\n",
            "           0.06645763,  0.04651353,  0.11628807,  0.11735386,\n",
            "          -0.0511359 , -0.05860957, -0.12339957, -0.04401569,\n",
            "          -0.06172682,  0.08811317, -0.08405144,  0.04389774,\n",
            "           0.00847149,  0.05454578,  0.15626706,  0.08988299,\n",
            "          -0.05588366, -0.1327652 ,  0.09632772, -0.05196301,\n",
            "           0.07023028,  0.08712514,  0.05336664,  0.04022299,\n",
            "           0.1051698 ,  0.0368682 ,  0.04826698, -0.08198961],\n",
            "         [ 0.03746052,  0.06804179, -0.04114913, -0.11427742,\n",
            "          -0.11030991, -0.08147032,  0.06676471,  0.00923777,\n",
            "          -0.04141258,  0.05554375,  0.07053211,  0.05501362,\n",
            "          -0.05420135, -0.03302506,  0.03673736, -0.04091355,\n",
            "           0.06457763,  0.02683547,  0.02660993, -0.02901283,\n",
            "           0.0204109 ,  0.14106897, -0.08203975,  0.0924911 ,\n",
            "          -0.12588044,  0.07203703,  0.00569216, -0.11339126,\n",
            "           0.02373817, -0.07801649,  0.06529396,  0.05761894],\n",
            "         [-0.01163989,  0.02692063,  0.0162451 ,  0.0324942 ,\n",
            "           0.03467535, -0.1013607 ,  0.01609623, -0.01596861,\n",
            "          -0.06777348, -0.07775593, -0.02364404,  0.06179932,\n",
            "          -0.08091164, -0.07889274,  0.06229454, -0.06614995,\n",
            "          -0.13179119, -0.04291616, -0.09844929, -0.0820136 ,\n",
            "           0.06889132, -0.06196479,  0.0945344 ,  0.01174735,\n",
            "           0.10991519,  0.02103064,  0.10370138, -0.02452514,\n",
            "           0.08721107,  0.05030261,  0.05098996, -0.07533282]]],\n",
            "\n",
            "\n",
            "       [[[ 0.09140069,  0.01913343, -0.01076545, -0.0891396 ,\n",
            "           0.00861632,  0.03189316,  0.02271011,  0.08217396,\n",
            "           0.1500211 , -0.06344846,  0.13440533, -0.02303086,\n",
            "           0.10092459,  0.03126976,  0.05019161, -0.08584186,\n",
            "           0.07799843, -0.06931239, -0.06918934, -0.12557332,\n",
            "          -0.06177069, -0.00489826, -0.01604323,  0.10701564,\n",
            "          -0.01387002, -0.01985668,  0.01380821, -0.07111295,\n",
            "          -0.10854478,  0.07281104,  0.10856779,  0.11973441],\n",
            "         [-0.0006008 , -0.09085204, -0.02303562,  0.04104339,\n",
            "           0.00720362,  0.13347657, -0.06309506,  0.10847716,\n",
            "          -0.10462528, -0.08224088, -0.00427529,  0.01132977,\n",
            "           0.04529363, -0.11585259,  0.01166835, -0.08499739,\n",
            "          -0.00656366, -0.0375045 , -0.08446625,  0.10686348,\n",
            "           0.05428508, -0.05387779, -0.03083777,  0.06717147,\n",
            "           0.07610992,  0.0073893 ,  0.03043046, -0.07160409,\n",
            "          -0.00400607, -0.04271167, -0.03287473,  0.03587561],\n",
            "         [-0.12771322,  0.09100213,  0.12064746, -0.13039842,\n",
            "          -0.10620356,  0.13978402,  0.10631383,  0.0220498 ,\n",
            "          -0.05038366,  0.01734496, -0.00709284,  0.1112888 ,\n",
            "          -0.00633967, -0.00831511, -0.11405732,  0.11979722,\n",
            "          -0.12242045, -0.07568715, -0.0262888 , -0.02478919,\n",
            "          -0.03232705,  0.01921234,  0.12364983,  0.00911617,\n",
            "          -0.05953673,  0.06411116,  0.12625477,  0.09574613,\n",
            "          -0.1290639 ,  0.07658628, -0.08130333, -0.02608733]],\n",
            "\n",
            "        [[ 0.05850266, -0.05662414, -0.08765875, -0.14319518,\n",
            "          -0.11804192,  0.05458964, -0.10628527,  0.06082248,\n",
            "           0.0490161 ,  0.04385581,  0.10893209,  0.07912153,\n",
            "           0.00819868,  0.03654651,  0.10771482,  0.10914944,\n",
            "           0.06143627, -0.09372953,  0.08471769, -0.12538259,\n",
            "          -0.08685769, -0.06010935,  0.02046579,  0.01355451,\n",
            "           0.09239323,  0.04054718, -0.03750663, -0.05400483,\n",
            "           0.12063629, -0.03869906,  0.02727947, -0.08561042],\n",
            "         [-0.07246117,  0.01449234,  0.04397263,  0.07966167,\n",
            "          -0.09434908, -0.03001583, -0.03471566, -0.06893524,\n",
            "           0.12067553,  0.06891196, -0.12561736, -0.11734251,\n",
            "          -0.0843748 , -0.03640383, -0.05979459, -0.12059942,\n",
            "           0.07128982, -0.06126487,  0.02857831,  0.09925771,\n",
            "           0.08793733,  0.0601901 ,  0.03520097, -0.02945705,\n",
            "          -0.09302269, -0.07897176, -0.06771504, -0.05747962,\n",
            "          -0.13715544,  0.0083521 , -0.02754484,  0.09122512],\n",
            "         [ 0.01258695,  0.12239989, -0.08886936, -0.11387291,\n",
            "           0.00294393,  0.03488952,  0.03262106, -0.13074201,\n",
            "          -0.04834277, -0.06592298, -0.01784702,  0.09254426,\n",
            "          -0.04381617, -0.13848417, -0.0230604 ,  0.01199705,\n",
            "          -0.04936986,  0.0367247 , -0.08780926, -0.10312255,\n",
            "           0.13512959, -0.07730053,  0.05752617, -0.0547796 ,\n",
            "           0.04015363, -0.08462854, -0.06755242,  0.04666682,\n",
            "           0.06325336, -0.04544951, -0.09574143,  0.08024279]],\n",
            "\n",
            "        [[-0.06455243, -0.09879826,  0.04653984, -0.00977349,\n",
            "           0.02652087, -0.05262099,  0.07797218, -0.01625946,\n",
            "          -0.07381356, -0.03081162, -0.09907044, -0.04183443,\n",
            "          -0.01768661, -0.11305968, -0.03992025,  0.00784882,\n",
            "           0.04223901, -0.06083615, -0.04108625,  0.00963052,\n",
            "           0.09191268, -0.00039294,  0.04389381, -0.03805988,\n",
            "           0.04298482,  0.12366449,  0.0790211 ,  0.09545575,\n",
            "           0.02901876,  0.11948571,  0.03723753, -0.00375381],\n",
            "         [-0.10823618,  0.04755525, -0.05278031,  0.08156069,\n",
            "           0.07294225, -0.10482498,  0.09745234, -0.07822485,\n",
            "          -0.08351685, -0.10491601,  0.01509121,  0.08199118,\n",
            "          -0.0186005 ,  0.10976038,  0.08360739, -0.01991339,\n",
            "           0.09371927,  0.09166332, -0.05987458, -0.08571464,\n",
            "          -0.10755146,  0.00100794,  0.03634128, -0.03492628,\n",
            "           0.0944338 , -0.05210096,  0.09448858, -0.13650058,\n",
            "          -0.10404745, -0.14208868,  0.12688106,  0.00525345],\n",
            "         [-0.06179366, -0.11538391,  0.0414868 , -0.02832326,\n",
            "           0.09421846, -0.02837213, -0.07611351,  0.01685821,\n",
            "           0.06952998, -0.01264954, -0.0841033 , -0.1222415 ,\n",
            "          -0.02346794,  0.04772057, -0.01581013, -0.08894997,\n",
            "          -0.03736749,  0.11320474, -0.00352068,  0.02300118,\n",
            "          -0.11526038, -0.0871177 ,  0.04504943, -0.06151172,\n",
            "           0.05816277,  0.06074741,  0.0229972 ,  0.06109476,\n",
            "          -0.13505635, -0.1305449 ,  0.10604807,  0.05711022]]]],\n",
            "      dtype=float32)>, <tf.Variable 'conv2d/bias:0' shape=(32,) dtype=float32, numpy=\n",
            "array([-0.00686766, -0.00667287,  0.00165823, -0.00981432, -0.00141837,\n",
            "       -0.00318121, -0.0194527 , -0.01267494,  0.0285411 ,  0.02714437,\n",
            "       -0.00483234, -0.00966631,  0.00749083, -0.01235119, -0.00576742,\n",
            "       -0.01139119, -0.00723715,  0.00219988,  0.02380767, -0.00549887,\n",
            "       -0.00244636, -0.00428522, -0.00476111, -0.01393331, -0.01925545,\n",
            "       -0.00570665, -0.00075467, -0.00740163, -0.01378308, -0.01668305,\n",
            "       -0.00446915, -0.00975829], dtype=float32)>]\n"
          ]
        }
      ]
    },
    {
      "cell_type": "code",
      "source": [
        "plt.plot(hist.history['loss'])\n",
        "plt.plot(hist.history['val_loss'])\n",
        "plt.legend(['training','validation'])\n",
        "plt.title('Training vs Validation Loss')\n",
        "plt.xlabel('Epochs')\n",
        "plt.show()"
      ],
      "metadata": {
        "colab": {
          "base_uri": "https://localhost:8080/",
          "height": 295
        },
        "id": "JT0yPIn6BEiK",
        "outputId": "1f60d981-c1c5-48e6-a0a8-55ba8738cb16"
      },
      "execution_count": 19,
      "outputs": [
        {
          "output_type": "display_data",
          "data": {
            "text/plain": [
              "<Figure size 432x288 with 1 Axes>"
            ],
            "image/png": "[encoded data removed]"
          },
          "metadata": {
            "needs_background": "light"
          }
        }
      ]
    },
    {
      "cell_type": "code",
      "source": [
        "model.save(\"model1.h5\")"
      ],
      "metadata": {
        "id": "drmuMSP6nzjY"
      },
      "execution_count": null,
      "outputs": []
    }
  ],
  "metadata": {
    "colab": {
      "collapsed_sections": [],
      "name": "Model-1",
      "provenance": []
    },
    "kernelspec": {
      "display_name": "Python 3",
      "name": "python3"
    }
  },
  "nbformat": 4,
  "nbformat_minor": 0
}